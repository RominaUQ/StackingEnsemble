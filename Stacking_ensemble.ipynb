{
 "cells": [
  {
   "cell_type": "code",
   "execution_count": 2,
   "metadata": {
    "isConfigCell": true
   },
   "outputs": [],
   "source": [
    "bucket = 'stacking-ensemble'\n",
    "#prefix = 'sagemaker/DEMO-stacking-ensemble'\n",
    " \n",
    "# Define IAM role\n",
    "import boto3\n",
    "import re\n",
    "from sagemaker import get_execution_role\n",
    "\n",
    "role = get_execution_role()"
   ]
  },
  {
   "cell_type": "markdown",
   "metadata": {},
   "source": [
    "Now let's bring in the Python libraries that we'll use throughout the analysis"
   ]
  },
  {
   "cell_type": "code",
   "execution_count": 13,
   "metadata": {},
   "outputs": [],
   "source": [
    "import numpy as np                                # For matrix operations and numerical processing\n",
    "import pandas as pd                               # For munging tabular data\n",
    "import matplotlib.pyplot as plt                   # For charts and visualizations\n",
    "from IPython.display import Image                 # For displaying images in the notebook\n",
    "from IPython.display import display               # For displaying outputs in the notebook\n",
    "from time import gmtime, strftime                 # For labeling SageMaker models, endpoints, etc.\n",
    "import sys                                        # For writing outputs to notebook\n",
    "import math                                       # For ceiling function\n",
    "import json                                       # For parsing hosting outputs\n",
    "import os                                         # For manipulating filepath names\n",
    "import sagemaker                                  # Amazon SageMaker's Python SDK provides many helper functions\n",
    "from sagemaker.serializers import CSVSerializer\n",
    "from sklearn.compose import ColumnTransformer\n",
    "from sklearn.externals import joblib\n",
    "from sklearn.impute import SimpleImputer\n",
    "from sklearn.model_selection import train_test_split\n",
    "from sklearn.pipeline import Pipeline\n",
    "from sklearn.preprocessing import Binarizer, StandardScaler, OneHotEncoder"
   ]
  },
  {
   "cell_type": "code",
   "execution_count": 4,
   "metadata": {},
   "outputs": [
    {
     "name": "stdout",
     "output_type": "stream",
     "text": [
      "<class 'pandas.core.frame.DataFrame'>\n",
      "RangeIndex: 30000 entries, 0 to 29999\n",
      "Data columns (total 25 columns):\n",
      " #   Column                      Non-Null Count  Dtype  \n",
      "---  ------                      --------------  -----  \n",
      " 0   ID                          30000 non-null  int64  \n",
      " 1   LIMIT_BAL                   30000 non-null  float64\n",
      " 2   SEX                         30000 non-null  int64  \n",
      " 3   EDUCATION                   30000 non-null  int64  \n",
      " 4   MARRIAGE                    30000 non-null  int64  \n",
      " 5   AGE                         30000 non-null  int64  \n",
      " 6   PAY_0                       30000 non-null  int64  \n",
      " 7   PAY_2                       30000 non-null  int64  \n",
      " 8   PAY_3                       30000 non-null  int64  \n",
      " 9   PAY_4                       30000 non-null  int64  \n",
      " 10  PAY_5                       30000 non-null  int64  \n",
      " 11  PAY_6                       30000 non-null  int64  \n",
      " 12  BILL_AMT1                   30000 non-null  float64\n",
      " 13  BILL_AMT2                   30000 non-null  float64\n",
      " 14  BILL_AMT3                   30000 non-null  float64\n",
      " 15  BILL_AMT4                   30000 non-null  float64\n",
      " 16  BILL_AMT5                   30000 non-null  float64\n",
      " 17  BILL_AMT6                   30000 non-null  float64\n",
      " 18  PAY_AMT1                    30000 non-null  float64\n",
      " 19  PAY_AMT2                    30000 non-null  float64\n",
      " 20  PAY_AMT3                    30000 non-null  float64\n",
      " 21  PAY_AMT4                    30000 non-null  float64\n",
      " 22  PAY_AMT5                    30000 non-null  float64\n",
      " 23  PAY_AMT6                    30000 non-null  float64\n",
      " 24  default.payment.next.month  30000 non-null  int64  \n",
      "dtypes: float64(13), int64(12)\n",
      "memory usage: 5.7 MB\n",
      "Index(['ID', 'LIMIT_BAL', 'SEX', 'EDUCATION', 'MARRIAGE', 'AGE', 'PAY_0',\n",
      "       'PAY_2', 'PAY_3', 'PAY_4', 'PAY_5', 'PAY_6', 'BILL_AMT1', 'BILL_AMT2',\n",
      "       'BILL_AMT3', 'BILL_AMT4', 'BILL_AMT5', 'BILL_AMT6', 'PAY_AMT1',\n",
      "       'PAY_AMT2', 'PAY_AMT3', 'PAY_AMT4', 'PAY_AMT5', 'PAY_AMT6',\n",
      "       'default.payment.next.month'],\n",
      "      dtype='object')\n"
     ]
    }
   ],
   "source": [
    "data_key = 'UCI_Credit_Card.csv'\n",
    "data_location = 's3://{}/{}'.format(bucket, data_key)\n",
    "\n",
    "data=pd.read_csv(data_location)\n",
    "data.info()\n",
    "print(data.columns)"
   ]
  },
  {
   "cell_type": "markdown",
   "metadata": {},
   "source": [
    "Now lets read this into a Pandas data frame and take a look."
   ]
  },
  {
   "cell_type": "markdown",
   "metadata": {},
   "source": [
    "### Exploration\n",
    "Let's start exploring the data.  First, let's understand how the features are distributed."
   ]
  },
  {
   "cell_type": "code",
   "execution_count": 5,
   "metadata": {},
   "outputs": [
    {
     "data": {
      "text/html": [
       "<div>\n",
       "<style scoped>\n",
       "    .dataframe tbody tr th:only-of-type {\n",
       "        vertical-align: middle;\n",
       "    }\n",
       "\n",
       "    .dataframe tbody tr th {\n",
       "        vertical-align: top;\n",
       "    }\n",
       "\n",
       "    .dataframe thead th {\n",
       "        text-align: right;\n",
       "    }\n",
       "</style>\n",
       "<table border=\"1\" class=\"dataframe\">\n",
       "  <thead>\n",
       "    <tr style=\"text-align: right;\">\n",
       "      <th></th>\n",
       "      <th>ID</th>\n",
       "      <th>LIMIT_BAL</th>\n",
       "      <th>SEX</th>\n",
       "      <th>EDUCATION</th>\n",
       "      <th>MARRIAGE</th>\n",
       "      <th>AGE</th>\n",
       "      <th>PAY_0</th>\n",
       "      <th>PAY_2</th>\n",
       "      <th>PAY_3</th>\n",
       "      <th>PAY_4</th>\n",
       "      <th>...</th>\n",
       "      <th>BILL_AMT4</th>\n",
       "      <th>BILL_AMT5</th>\n",
       "      <th>BILL_AMT6</th>\n",
       "      <th>PAY_AMT1</th>\n",
       "      <th>PAY_AMT2</th>\n",
       "      <th>PAY_AMT3</th>\n",
       "      <th>PAY_AMT4</th>\n",
       "      <th>PAY_AMT5</th>\n",
       "      <th>PAY_AMT6</th>\n",
       "      <th>default.payment.next.month</th>\n",
       "    </tr>\n",
       "  </thead>\n",
       "  <tbody>\n",
       "    <tr>\n",
       "      <th>count</th>\n",
       "      <td>30000.000000</td>\n",
       "      <td>30000.000000</td>\n",
       "      <td>30000.000000</td>\n",
       "      <td>30000.000000</td>\n",
       "      <td>30000.000000</td>\n",
       "      <td>30000.000000</td>\n",
       "      <td>30000.000000</td>\n",
       "      <td>30000.000000</td>\n",
       "      <td>30000.000000</td>\n",
       "      <td>30000.000000</td>\n",
       "      <td>...</td>\n",
       "      <td>30000.000000</td>\n",
       "      <td>30000.000000</td>\n",
       "      <td>30000.000000</td>\n",
       "      <td>30000.000000</td>\n",
       "      <td>3.000000e+04</td>\n",
       "      <td>30000.00000</td>\n",
       "      <td>30000.000000</td>\n",
       "      <td>30000.000000</td>\n",
       "      <td>30000.000000</td>\n",
       "      <td>30000.000000</td>\n",
       "    </tr>\n",
       "    <tr>\n",
       "      <th>mean</th>\n",
       "      <td>15000.500000</td>\n",
       "      <td>167484.322667</td>\n",
       "      <td>1.603733</td>\n",
       "      <td>1.853133</td>\n",
       "      <td>1.551867</td>\n",
       "      <td>35.485500</td>\n",
       "      <td>-0.016700</td>\n",
       "      <td>-0.133767</td>\n",
       "      <td>-0.166200</td>\n",
       "      <td>-0.220667</td>\n",
       "      <td>...</td>\n",
       "      <td>43262.948967</td>\n",
       "      <td>40311.400967</td>\n",
       "      <td>38871.760400</td>\n",
       "      <td>5663.580500</td>\n",
       "      <td>5.921163e+03</td>\n",
       "      <td>5225.68150</td>\n",
       "      <td>4826.076867</td>\n",
       "      <td>4799.387633</td>\n",
       "      <td>5215.502567</td>\n",
       "      <td>0.221200</td>\n",
       "    </tr>\n",
       "    <tr>\n",
       "      <th>std</th>\n",
       "      <td>8660.398374</td>\n",
       "      <td>129747.661567</td>\n",
       "      <td>0.489129</td>\n",
       "      <td>0.790349</td>\n",
       "      <td>0.521970</td>\n",
       "      <td>9.217904</td>\n",
       "      <td>1.123802</td>\n",
       "      <td>1.197186</td>\n",
       "      <td>1.196868</td>\n",
       "      <td>1.169139</td>\n",
       "      <td>...</td>\n",
       "      <td>64332.856134</td>\n",
       "      <td>60797.155770</td>\n",
       "      <td>59554.107537</td>\n",
       "      <td>16563.280354</td>\n",
       "      <td>2.304087e+04</td>\n",
       "      <td>17606.96147</td>\n",
       "      <td>15666.159744</td>\n",
       "      <td>15278.305679</td>\n",
       "      <td>17777.465775</td>\n",
       "      <td>0.415062</td>\n",
       "    </tr>\n",
       "    <tr>\n",
       "      <th>min</th>\n",
       "      <td>1.000000</td>\n",
       "      <td>10000.000000</td>\n",
       "      <td>1.000000</td>\n",
       "      <td>0.000000</td>\n",
       "      <td>0.000000</td>\n",
       "      <td>21.000000</td>\n",
       "      <td>-2.000000</td>\n",
       "      <td>-2.000000</td>\n",
       "      <td>-2.000000</td>\n",
       "      <td>-2.000000</td>\n",
       "      <td>...</td>\n",
       "      <td>-170000.000000</td>\n",
       "      <td>-81334.000000</td>\n",
       "      <td>-339603.000000</td>\n",
       "      <td>0.000000</td>\n",
       "      <td>0.000000e+00</td>\n",
       "      <td>0.00000</td>\n",
       "      <td>0.000000</td>\n",
       "      <td>0.000000</td>\n",
       "      <td>0.000000</td>\n",
       "      <td>0.000000</td>\n",
       "    </tr>\n",
       "    <tr>\n",
       "      <th>25%</th>\n",
       "      <td>7500.750000</td>\n",
       "      <td>50000.000000</td>\n",
       "      <td>1.000000</td>\n",
       "      <td>1.000000</td>\n",
       "      <td>1.000000</td>\n",
       "      <td>28.000000</td>\n",
       "      <td>-1.000000</td>\n",
       "      <td>-1.000000</td>\n",
       "      <td>-1.000000</td>\n",
       "      <td>-1.000000</td>\n",
       "      <td>...</td>\n",
       "      <td>2326.750000</td>\n",
       "      <td>1763.000000</td>\n",
       "      <td>1256.000000</td>\n",
       "      <td>1000.000000</td>\n",
       "      <td>8.330000e+02</td>\n",
       "      <td>390.00000</td>\n",
       "      <td>296.000000</td>\n",
       "      <td>252.500000</td>\n",
       "      <td>117.750000</td>\n",
       "      <td>0.000000</td>\n",
       "    </tr>\n",
       "    <tr>\n",
       "      <th>50%</th>\n",
       "      <td>15000.500000</td>\n",
       "      <td>140000.000000</td>\n",
       "      <td>2.000000</td>\n",
       "      <td>2.000000</td>\n",
       "      <td>2.000000</td>\n",
       "      <td>34.000000</td>\n",
       "      <td>0.000000</td>\n",
       "      <td>0.000000</td>\n",
       "      <td>0.000000</td>\n",
       "      <td>0.000000</td>\n",
       "      <td>...</td>\n",
       "      <td>19052.000000</td>\n",
       "      <td>18104.500000</td>\n",
       "      <td>17071.000000</td>\n",
       "      <td>2100.000000</td>\n",
       "      <td>2.009000e+03</td>\n",
       "      <td>1800.00000</td>\n",
       "      <td>1500.000000</td>\n",
       "      <td>1500.000000</td>\n",
       "      <td>1500.000000</td>\n",
       "      <td>0.000000</td>\n",
       "    </tr>\n",
       "    <tr>\n",
       "      <th>75%</th>\n",
       "      <td>22500.250000</td>\n",
       "      <td>240000.000000</td>\n",
       "      <td>2.000000</td>\n",
       "      <td>2.000000</td>\n",
       "      <td>2.000000</td>\n",
       "      <td>41.000000</td>\n",
       "      <td>0.000000</td>\n",
       "      <td>0.000000</td>\n",
       "      <td>0.000000</td>\n",
       "      <td>0.000000</td>\n",
       "      <td>...</td>\n",
       "      <td>54506.000000</td>\n",
       "      <td>50190.500000</td>\n",
       "      <td>49198.250000</td>\n",
       "      <td>5006.000000</td>\n",
       "      <td>5.000000e+03</td>\n",
       "      <td>4505.00000</td>\n",
       "      <td>4013.250000</td>\n",
       "      <td>4031.500000</td>\n",
       "      <td>4000.000000</td>\n",
       "      <td>0.000000</td>\n",
       "    </tr>\n",
       "    <tr>\n",
       "      <th>max</th>\n",
       "      <td>30000.000000</td>\n",
       "      <td>1000000.000000</td>\n",
       "      <td>2.000000</td>\n",
       "      <td>6.000000</td>\n",
       "      <td>3.000000</td>\n",
       "      <td>79.000000</td>\n",
       "      <td>8.000000</td>\n",
       "      <td>8.000000</td>\n",
       "      <td>8.000000</td>\n",
       "      <td>8.000000</td>\n",
       "      <td>...</td>\n",
       "      <td>891586.000000</td>\n",
       "      <td>927171.000000</td>\n",
       "      <td>961664.000000</td>\n",
       "      <td>873552.000000</td>\n",
       "      <td>1.684259e+06</td>\n",
       "      <td>896040.00000</td>\n",
       "      <td>621000.000000</td>\n",
       "      <td>426529.000000</td>\n",
       "      <td>528666.000000</td>\n",
       "      <td>1.000000</td>\n",
       "    </tr>\n",
       "  </tbody>\n",
       "</table>\n",
       "<p>8 rows × 25 columns</p>\n",
       "</div>"
      ],
      "text/plain": [
       "                 ID       LIMIT_BAL           SEX     EDUCATION      MARRIAGE  \\\n",
       "count  30000.000000    30000.000000  30000.000000  30000.000000  30000.000000   \n",
       "mean   15000.500000   167484.322667      1.603733      1.853133      1.551867   \n",
       "std     8660.398374   129747.661567      0.489129      0.790349      0.521970   \n",
       "min        1.000000    10000.000000      1.000000      0.000000      0.000000   \n",
       "25%     7500.750000    50000.000000      1.000000      1.000000      1.000000   \n",
       "50%    15000.500000   140000.000000      2.000000      2.000000      2.000000   \n",
       "75%    22500.250000   240000.000000      2.000000      2.000000      2.000000   \n",
       "max    30000.000000  1000000.000000      2.000000      6.000000      3.000000   \n",
       "\n",
       "                AGE         PAY_0         PAY_2         PAY_3         PAY_4  \\\n",
       "count  30000.000000  30000.000000  30000.000000  30000.000000  30000.000000   \n",
       "mean      35.485500     -0.016700     -0.133767     -0.166200     -0.220667   \n",
       "std        9.217904      1.123802      1.197186      1.196868      1.169139   \n",
       "min       21.000000     -2.000000     -2.000000     -2.000000     -2.000000   \n",
       "25%       28.000000     -1.000000     -1.000000     -1.000000     -1.000000   \n",
       "50%       34.000000      0.000000      0.000000      0.000000      0.000000   \n",
       "75%       41.000000      0.000000      0.000000      0.000000      0.000000   \n",
       "max       79.000000      8.000000      8.000000      8.000000      8.000000   \n",
       "\n",
       "       ...      BILL_AMT4      BILL_AMT5      BILL_AMT6       PAY_AMT1  \\\n",
       "count  ...   30000.000000   30000.000000   30000.000000   30000.000000   \n",
       "mean   ...   43262.948967   40311.400967   38871.760400    5663.580500   \n",
       "std    ...   64332.856134   60797.155770   59554.107537   16563.280354   \n",
       "min    ... -170000.000000  -81334.000000 -339603.000000       0.000000   \n",
       "25%    ...    2326.750000    1763.000000    1256.000000    1000.000000   \n",
       "50%    ...   19052.000000   18104.500000   17071.000000    2100.000000   \n",
       "75%    ...   54506.000000   50190.500000   49198.250000    5006.000000   \n",
       "max    ...  891586.000000  927171.000000  961664.000000  873552.000000   \n",
       "\n",
       "           PAY_AMT2      PAY_AMT3       PAY_AMT4       PAY_AMT5  \\\n",
       "count  3.000000e+04   30000.00000   30000.000000   30000.000000   \n",
       "mean   5.921163e+03    5225.68150    4826.076867    4799.387633   \n",
       "std    2.304087e+04   17606.96147   15666.159744   15278.305679   \n",
       "min    0.000000e+00       0.00000       0.000000       0.000000   \n",
       "25%    8.330000e+02     390.00000     296.000000     252.500000   \n",
       "50%    2.009000e+03    1800.00000    1500.000000    1500.000000   \n",
       "75%    5.000000e+03    4505.00000    4013.250000    4031.500000   \n",
       "max    1.684259e+06  896040.00000  621000.000000  426529.000000   \n",
       "\n",
       "            PAY_AMT6  default.payment.next.month  \n",
       "count   30000.000000                30000.000000  \n",
       "mean     5215.502567                    0.221200  \n",
       "std     17777.465775                    0.415062  \n",
       "min         0.000000                    0.000000  \n",
       "25%       117.750000                    0.000000  \n",
       "50%      1500.000000                    0.000000  \n",
       "75%      4000.000000                    0.000000  \n",
       "max    528666.000000                    1.000000  \n",
       "\n",
       "[8 rows x 25 columns]"
      ]
     },
     "metadata": {},
     "output_type": "display_data"
    },
    {
     "data": {
      "image/png": "[encoded data removed]",
      "text/plain": [
       "<Figure size 1080x1080 with 25 Axes>"
      ]
     },
     "metadata": {
      "needs_background": "light"
     },
     "output_type": "display_data"
    }
   ],
   "source": [
    "# Frequency tables for each categorical feature\n",
    "for column in data.select_dtypes(include=['object']).columns:\n",
    "    display(pd.crosstab(index=data[column], columns='% observations', normalize='columns'))\n",
    "\n",
    "# Histograms for each numeric features\n",
    "display(data.describe())\n",
    "%matplotlib inline\n",
    "hist = data.hist(bins=30, sharey=True, figsize=(15, 15))"
   ]
  },
  {
   "cell_type": "code",
   "execution_count": 6,
   "metadata": {},
   "outputs": [],
   "source": [
    "model_data = data.drop(['ID', 'default.payment.next.month'], axis=1)\n"
   ]
  },
  {
   "cell_type": "code",
   "execution_count": 7,
   "metadata": {},
   "outputs": [
    {
     "name": "stdout",
     "output_type": "stream",
     "text": [
      "[[-1.13672015  1.79456386  1.78234817 ... -0.30806256 -0.31413612\n",
      "  -0.29338206]\n",
      " [-0.3659805  -0.87499115  1.78234817 ... -0.24422965 -0.31413612\n",
      "  -0.18087821]\n",
      " [-0.59720239  0.01486052  0.1117361  ... -0.24422965 -0.24868274\n",
      "  -0.01212243]\n",
      " ...\n",
      " [-1.05964618  3.57426721  2.61765421 ... -0.03996431 -0.18322937\n",
      "  -0.11900109]\n",
      " [-0.67427636  0.90471219 -0.72356993 ... -0.18512036  3.15253642\n",
      "  -0.19190359]\n",
      " [-0.90549825  0.01486052  0.1117361  ... -0.24422965 -0.24868274\n",
      "  -0.23713013]]\n",
      "(30000, 88)\n"
     ]
    }
   ],
   "source": [
    "feature_names =['LIMIT_BAL', 'SEX', 'EDUCATION', 'MARRIAGE', 'AGE', 'PAY_0',\n",
    "       'PAY_2', 'PAY_3', 'PAY_4', 'PAY_5', 'PAY_6', 'BILL_AMT1', 'BILL_AMT2',\n",
    "       'BILL_AMT3', 'BILL_AMT4', 'BILL_AMT5', 'BILL_AMT6', 'PAY_AMT1',\n",
    "       'PAY_AMT2', 'PAY_AMT3', 'PAY_AMT4', 'PAY_AMT5', 'PAY_AMT6']\n",
    "\n",
    "\n",
    "numeric_features= data[['LIMIT_BAL', 'PAY_0',\n",
    "       'PAY_2', 'PAY_3', 'PAY_4', 'PAY_5', 'PAY_6', 'BILL_AMT1', 'BILL_AMT2',\n",
    "       'BILL_AMT3', 'BILL_AMT4', 'BILL_AMT5', 'BILL_AMT6', 'PAY_AMT1',\n",
    "       'PAY_AMT2', 'PAY_AMT3', 'PAY_AMT4', 'PAY_AMT5', 'PAY_AMT6']]\n",
    "\n",
    "numeric_transformer= StandardScaler()\n",
    "num_array=numeric_transformer.fit_transform(numeric_features)\n",
    "print(num_array)\n",
    "#print(numeric_array.shape)\n",
    "\n",
    "\n",
    "categorical_features = data[['SEX', 'EDUCATION', 'MARRIAGE', 'AGE']]\n",
    "categorical_transformer = OneHotEncoder(handle_unknown='ignore').fit(categorical_features)\n",
    "cat_array=categorical_transformer.transform(categorical_features).toarray()\n",
    "#print(cat_array.shape)\n",
    "\n",
    "processed_array=np.concatenate((num_array, cat_array), 1)\n",
    "\n",
    "print(processed_array.shape)"
   ]
  },
  {
   "cell_type": "code",
   "execution_count": 8,
   "metadata": {},
   "outputs": [
    {
     "name": "stdout",
     "output_type": "stream",
     "text": [
      "             0         1         2         3         4         5         6   \\\n",
      "0     -1.136720  1.794564  1.782348 -0.696663 -0.666599 -1.530046 -1.486041   \n",
      "1     -0.365981 -0.874991  1.782348  0.138865  0.188746  0.234917  1.992316   \n",
      "2     -0.597202  0.014861  0.111736  0.138865  0.188746  0.234917  0.253137   \n",
      "3     -0.905498  0.014861  0.111736  0.138865  0.188746  0.234917  0.253137   \n",
      "4     -0.905498 -0.874991  0.111736 -0.696663  0.188746  0.234917  0.253137   \n",
      "...         ...       ...       ...       ...       ...       ...       ...   \n",
      "29995  0.404759  0.014861  0.111736  0.138865  0.188746  0.234917  0.253137   \n",
      "29996 -0.134759 -0.874991 -0.723570 -0.696663 -0.666599  0.234917  0.253137   \n",
      "29997 -1.059646  3.574267  2.617654  1.809921 -0.666599  0.234917  0.253137   \n",
      "29998 -0.674276  0.904712 -0.723570  0.138865  0.188746  0.234917 -0.616452   \n",
      "29999 -0.905498  0.014861  0.111736  0.138865  0.188746  0.234917  0.253137   \n",
      "\n",
      "             7         8         9   ...   78   79   80   81   82   83   84  \\\n",
      "0     -0.642501 -0.647399 -0.667993  ...  0.0  0.0  0.0  0.0  0.0  0.0  0.0   \n",
      "1     -0.659219 -0.666747 -0.639254  ...  0.0  0.0  0.0  0.0  0.0  0.0  0.0   \n",
      "2     -0.298560 -0.493899 -0.482408  ...  0.0  0.0  0.0  0.0  0.0  0.0  0.0   \n",
      "3     -0.057491 -0.013293  0.032846  ...  0.0  0.0  0.0  0.0  0.0  0.0  0.0   \n",
      "4     -0.578618 -0.611318 -0.161189  ...  0.0  0.0  0.0  0.0  0.0  0.0  0.0   \n",
      "...         ...       ...       ...  ...  ...  ...  ...  ...  ...  ...  ...   \n",
      "29995  1.870379  2.018136  2.326690  ...  0.0  0.0  0.0  0.0  0.0  0.0  0.0   \n",
      "29996 -0.672786 -0.665299 -0.627430  ...  0.0  0.0  0.0  0.0  0.0  0.0  0.0   \n",
      "29997 -0.647227 -0.643830 -0.638158  ...  0.0  0.0  0.0  0.0  0.0  0.0  0.0   \n",
      "29998 -0.717982  0.410269  0.422373  ...  0.0  0.0  0.0  0.0  0.0  0.0  0.0   \n",
      "29999 -0.044739 -0.003851  0.039667  ...  0.0  0.0  0.0  0.0  0.0  0.0  0.0   \n",
      "\n",
      "        85   86   87  \n",
      "0      0.0  0.0  0.0  \n",
      "1      0.0  0.0  0.0  \n",
      "2      0.0  0.0  0.0  \n",
      "3      0.0  0.0  0.0  \n",
      "4      0.0  0.0  0.0  \n",
      "...    ...  ...  ...  \n",
      "29995  0.0  0.0  0.0  \n",
      "29996  0.0  0.0  0.0  \n",
      "29997  0.0  0.0  0.0  \n",
      "29998  0.0  0.0  0.0  \n",
      "29999  0.0  0.0  0.0  \n",
      "\n",
      "[30000 rows x 88 columns]\n"
     ]
    }
   ],
   "source": [
    "processed_matirx= np.asmatrix(processed_array)\n",
    "X_data=pd.DataFrame(processed_matirx)\n",
    "Y_data = data[['default.payment.next.month']]\n",
    "\n",
    "print(X_data)"
   ]
  },
  {
   "cell_type": "code",
   "execution_count": 14,
   "metadata": {},
   "outputs": [],
   "source": [
    "X_train, X_test, Y_train, Y_test = train_test_split(X_data, Y_data, test_size=0.30, random_state=42)\n",
    "X_train, X_val, Y_train, Y_val = train_test_split(X_train, Y_train, test_size=0.30, random_state=42)"
   ]
  },
  {
   "cell_type": "code",
   "execution_count": 15,
   "metadata": {},
   "outputs": [],
   "source": [
    "pd.concat([Y_train, X_train], axis=1).to_csv('train.csv', index=False, header=False)\n",
    "pd.concat([Y_val, X_val], axis=1).to_csv('validation.csv', index=False, header=False)\n",
    "#pd.concat([Y_test, X_test], axis=1).to_csv('test.csv', index=False, header=False)"
   ]
  },
  {
   "cell_type": "code",
   "execution_count": 17,
   "metadata": {},
   "outputs": [],
   "source": [
    "boto3.Session().resource('s3').Bucket(bucket).Object(os.path.join('train/train.csv')).upload_file('train.csv')\n",
    "boto3.Session().resource('s3').Bucket(bucket).Object(os.path.join('validation/validation.csv')).upload_file('validation.csv')"
   ]
  },
  {
   "cell_type": "code",
   "execution_count": 18,
   "metadata": {},
   "outputs": [],
   "source": [
    "container_1 = sagemaker.image_uris.retrieve(region=boto3.Session().region_name, framework='xgboost', version='latest')"
   ]
  },
  {
   "cell_type": "code",
   "execution_count": 20,
   "metadata": {},
   "outputs": [],
   "source": [
    "s3_input_train = sagemaker.inputs.TrainingInput(s3_data='s3://{}/train'.format(bucket), content_type='text/csv')\n",
    "s3_input_validation = sagemaker.inputs.TrainingInput(s3_data='s3://{}/validation/'.format(bucket), content_type='text/csv')"
   ]
  },
  {
   "cell_type": "code",
   "execution_count": 213,
   "metadata": {},
   "outputs": [],
   "source": [
    "sess = sagemaker.Session()\n",
    "\n",
    "xgb = sagemaker.estimator.Estimator(container,\n",
    "                                    role, \n",
    "                                    instance_count=1, \n",
    "                                    instance_type='ml.m4.xlarge',\n",
    "                                    output_path='s3://{}/{}/output'.format(bucket, prefix),\n",
    "                                    sagemaker_session=sess)\n",
    "xgb.set_hyperparameters(max_depth=5,\n",
    "                        eta=0.2,\n",
    "                        gamma=4,\n",
    "                        min_child_weight=6,\n",
    "                        subsample=0.8,\n",
    "                        silent=0,\n",
    "                        objective='binary:logistic',\n",
    "                        num_round=100)\n",
    "\n",
    "xgb.fit({'train': s3_input_train, 'validation': s3_input_validation}) "
   ]
  },
  {
   "cell_type": "code",
   "execution_count": 174,
   "metadata": {},
   "outputs": [],
   "source": [
    "# xgb_predictor = xgb.deploy(initial_instance_count=1,\n",
    "#                            instance_type='ml.m4.xlarge',\n",
    "#                            serializer = CSVSerializer()                          )"
   ]
  },
  {
   "cell_type": "code",
   "execution_count": 177,
   "metadata": {},
   "outputs": [],
   "source": [
    "# def predict(data, rows=500):\n",
    "#     split_array = np.array_split(data, int(data.shape[0] / float(rows) + 1))\n",
    "#     predictions = ''\n",
    "#     for array in split_array:\n",
    "#         predictions = ','.join([predictions, xgb_predictor.predict(array).decode('utf-8')])\n",
    "\n",
    "#     return np.fromstring(predictions[1:], sep=',')\n",
    "\n",
    "# predictions = predict(X_test.to_numpy()[:,1:])\n",
    "# predictions\n",
    "# predictions.shape"
   ]
  },
  {
   "cell_type": "code",
   "execution_count": 193,
   "metadata": {},
   "outputs": [],
   "source": [
    "# Y_test=Y_test.to_numpy()\n",
    "# Y_test=Y_test.reshape(-1)"
   ]
  },
  {
   "cell_type": "code",
   "execution_count": 178,
   "metadata": {},
   "outputs": [],
   "source": [
    "# pd.crosstab(index=Y_test, columns=np.round(predictions), rownames=['actuals'], colnames=['predictions'])"
   ]
  },
  {
   "cell_type": "markdown",
   "metadata": {},
   "source": [
    "# Model 2: Linear learner"
   ]
  },
  {
   "cell_type": "code",
   "execution_count": 218,
   "metadata": {},
   "outputs": [],
   "source": [
    "from sagemaker.amazon.amazon_estimator import get_image_uri\n",
    "container_2 = sagemaker.image_uris.retrieve(region=boto3.Session().region_name, framework='linear-learner')\n"
   ]
  },
  {
   "cell_type": "code",
   "execution_count": 215,
   "metadata": {},
   "outputs": [],
   "source": [
    "linear = sagemaker.estimator.Estimator(\n",
    "    container,\n",
    "    role,\n",
    "    instance_count=1,\n",
    "    instance_type=\"ml.c4.xlarge\",\n",
    "    output_path='s3://{}/{}/output'.format(bucket, prefix),\n",
    "    sagemaker_session=sess,\n",
    "    content_type='text/csv'\n",
    ")\n",
    "linear.set_hyperparameters(feature_dim=88, predictor_type=\"binary_classifier\", mini_batch_size=200)\n",
    "\n",
    "linear.fit({'train': s3_input_train, 'validation': s3_input_validation}) "
   ]
  },
  {
   "cell_type": "markdown",
   "metadata": {},
   "source": [
    "## Deploy a multi container endpoint that can host both our learner and later we will add our meta learner model to it as well"
   ]
  },
  {
   "cell_type": "code",
   "execution_count": 235,
   "metadata": {},
   "outputs": [],
   "source": [
    "container1 = { 'Image': container_1,\n",
    "                'ContainerHostname': 'firstContainer',\n",
    "             'ModelDataUrl': 's3://stacking-ensemble/sagemaker/DEMO-stacking-ensemble/output/xgboost-2021-04-28-05-04-25-082/output/model.tar.gz'}\n",
    "\n",
    "container2 = { 'Image': container_2,\n",
    "                'ContainerHostname': 'secondContainer',\n",
    "              'ModelDataUrl':'s3://stacking-ensemble/sagemaker/DEMO-stacking-ensemble/output/linear-learner-2021-04-29-03-53-16-756/output/model.tar.gz'\n",
    "             }\n",
    "inferenceExecutionConfig = {'Mode': 'Direct'\n",
    "                         }    \n",
    "\n",
    "import boto3\n",
    "sm_client = boto3.Session().client('sagemaker')\n",
    "\n",
    "response = sm_client.create_model(ModelName = 'my-direct-model',\n",
    "              InferenceExecutionConfig = inferenceExecutionConfig,\n",
    "              ExecutionRoleArn = role,\n",
    "              Containers = [container1, container2])"
   ]
  },
  {
   "cell_type": "code",
   "execution_count": 237,
   "metadata": {},
   "outputs": [],
   "source": [
    "response = sm_client.create_endpoint_config(\n",
    "    EndpointConfigName = 'my-epc',\n",
    "    ProductionVariants=[{\n",
    "        'InstanceType':        'ml.m4.xlarge',\n",
    "        'InitialInstanceCount': 2,\n",
    "        'InitialVariantWeight': 1,\n",
    "        'ModelName':            'my-direct-model',\n",
    "        'VariantName':          'AllTraffic'}])"
   ]
  },
  {
   "cell_type": "code",
   "execution_count": 239,
   "metadata": {},
   "outputs": [],
   "source": [
    "response = sm_client.create_endpoint(\n",
    "              EndpointName       = 'my-endpoint',\n",
    "              EndpointConfigName = 'my-epc')"
   ]
  },
  {
   "cell_type": "code",
   "execution_count": 129,
   "metadata": {},
   "outputs": [
    {
     "name": "stdout",
     "output_type": "stream",
     "text": [
      "[0.11156003922224045, 0.15047086775302887, 0.09547748416662216, 0.19228462874889374, 0.18851794302463531, 0.41946861147880554, 0.3613850176334381, 0.09351055324077606, 0.16622887551784515, 0.773091733455658, 0.07973828166723251, 0.10850828886032104, 0.9144372940063477, 0.06028459221124649, 0.1510041058063507, 0.0753476619720459, 0.2025492936372757, 0.15857788920402527, 0.7176567316055298, 0.07905205339193344, 0.4029044210910797, 0.16399537026882172, 0.0707278847694397, 0.11528592556715012, 0.3891293406486511, 0.049366552382707596, 0.7961646914482117, 0.07213816791772842, 0.14590924978256226, 0.03136373683810234, 0.13460023701190948, 0.3281944990158081, 0.03232160955667496, 0.2660827338695526, 0.055967651307582855, 0.023182867094874382, 0.01214874442666769, 0.22937706112861633, 0.27400729060173035, 0.16165733337402344, 0.18428635597229004, 0.38301196694374084, 0.11606066673994064, 0.33051589131355286, 0.15572169423103333, 0.5150693655014038, 0.19646340608596802, 0.07664798945188522, 0.1272209882736206, 0.36999571323394775, 0.05078771337866783, 0.08766719698905945, 0.13252761960029602, 0.010554143227636814, 0.05710775777697563, 0.03861186280846596, 0.17881111800670624, 0.1364406794309616, 0.11239831149578094, 0.15782906115055084, 0.5073601603507996, 0.0992312952876091, 0.2832907438278198, 0.0711282268166542, 0.08410605788230896, 0.1978662759065628, 0.2245410680770874, 0.16180458664894104, 0.26091712713241577, 0.22803270816802979, 0.11775681376457214, 0.164996936917305, 0.1382666677236557, 0.1065361276268959, 0.09117788821458817, 0.06565439701080322, 0.4014851450920105, 0.11853084713220596, 0.08214876800775528, 0.03775347024202347, 0.29518112540245056, 0.06289273500442505, 0.2747970223426819, 0.03910296410322189, 0.5208427309989929, 0.05122961848974228, 0.3036561608314514, 0.07834354043006897, 0.13829860091209412, 0.32422539591789246, 0.1551574468612671, 0.40066784620285034, 0.394691526889801, 0.05568769574165344, 0.1384093314409256, 0.16357141733169556, 0.06595872342586517, 0.3169499337673187, 0.2200053334236145]\n"
     ]
    }
   ],
   "source": [
    "import json\n",
    "runtime_sm_client = boto3.Session().client('sagemaker-runtime')\n",
    "import io\n",
    "from io import StringIO\n",
    "csv_file = io.StringIO()\n",
    "results_XGB=list()\n",
    "\n",
    "for i in range(1,100):#len(X_test)):\n",
    "    body=X_test.iloc[[i]]\n",
    "    csv_file=io.StringIO()\n",
    "    body.to_csv(csv_file, sep=\",\", header=False, index=False)\n",
    "    payload = csv_file.getvalue()\n",
    "    response = runtime_sm_client.invoke_endpoint(EndpointName ='my-endpoint',ContentType = 'text/csv',TargetContainerHostname='firstContainer', Body = payload)\n",
    "    result = json.loads(response['Body'].read().decode())\n",
    "    results_XGB.append(result)\n",
    "print(results_XGB)"
   ]
  },
  {
   "cell_type": "code",
   "execution_count": 149,
   "metadata": {},
   "outputs": [
    {
     "name": "stdout",
     "output_type": "stream",
     "text": [
      "[0.1425866037607193, 0.21618054807186127, 0.2985113859176636, 0.23050788044929504, 0.11158045381307602, 0.3879971504211426, 0.2905397117137909, 0.07639910280704498, 0.15699070692062378, 0.5780773758888245, 0.11423643678426743, 0.21168535947799683, 0.8378437161445618, 0.13851593434810638, 0.11243318766355515, 0.17962419986724854, 0.27172067761421204, 0.07888223975896835, 0.6500892043113708, 0.17518986761569977, 0.2414344996213913, 0.2092496156692505, 0.210364431142807, 0.05831490829586983, 0.17339536547660828, 0.002300507389008999, 0.6900439858436584, 0.09674568474292755, 0.14838264882564545, 0.029345855116844177, 0.11786603927612305, 0.3834499418735504, 0.1523154377937317, 0.1787356585264206, 0.2535664141178131, 0.18775998055934906, 0.06162182614207268, 0.0531139001250267, 0.3304443657398224, 0.23828010261058807, 0.15262967348098755, 0.34814444184303284, 0.14508329331874847, 0.2251165211200714, 0.03790263831615448, 0.8032917380332947, 0.10689695924520493, 0.23760643601417542, 0.0989263504743576, 0.24070867896080017, 0.05069223791360855, 0.17407530546188354, 0.22384320199489594, 0.04148617759346962, 0.045642249286174774, 0.15995727479457855, 0.05800863355398178, 0.1409854292869568, 0.11399835348129272, 0.1321832239627838, 0.5086057782173157, 0.2320718616247177, 0.09315552562475204, 0.119255930185318, 0.07115020602941513, 0.21323242783546448, 0.22857291996479034, 0.19282667338848114, 0.3328995704650879, 0.14990755915641785, 0.21203811466693878, 0.1971942037343979, 0.21993482112884521, 0.1063181683421135, 0.11963193863630295, 0.11767134815454483, 0.20937158167362213, 0.12127464264631271, 0.2242351919412613, 0.0529969222843647, 0.17364990711212158, 0.18323621153831482, 0.07376398891210556, 0.0809527114033699, 0.18714189529418945, 0.04369773343205452, 0.24560628831386566, 0.17916710674762726, 0.2018018215894699, 0.34932196140289307, 0.20616868138313293, 0.41980403661727905, 0.29097965359687805, 0.09961538016796112, 0.17514987289905548, 0.24919673800468445, 0.20363134145736694, 0.05710163339972496, 0.1393943428993225]\n"
     ]
    }
   ],
   "source": [
    "import json\n",
    "runtime_sm_client = boto3.Session().client('sagemaker-runtime')\n",
    "import io\n",
    "from io import StringIO\n",
    "csv_file = io.StringIO()\n",
    "results_LL=list()\n",
    "\n",
    "for i in range(1,100):#len(X_test)):\n",
    "    body=X_test.iloc[[i]]\n",
    "    csv_file=io.StringIO()\n",
    "    body.to_csv(csv_file, sep=\",\", header=False, index=False)\n",
    "    payload = csv_file.getvalue()\n",
    "    response = runtime_sm_client.invoke_endpoint(EndpointName ='my-endpoint',ContentType = 'text/csv',TargetContainerHostname='SecondContainer', Body = payload)\n",
    "    result = json.loads(response['Body'].read().decode())\n",
    "    result=result['predictions'][0]['score']\n",
    "    results_LL.append(result)\n",
    "print(results_LL)"
   ]
  },
  {
   "cell_type": "markdown",
   "metadata": {},
   "source": [
    "## Create level 2 (meta learner model) input data from outputs of the other two models"
   ]
  },
  {
   "cell_type": "code",
   "execution_count": null,
   "metadata": {},
   "outputs": [],
   "source": [
    "from pandas import DataFrame\n",
    "# XGB_features= 1- DataFrame(results_XGB)\n",
    "# XGB_features=pd.concat([XGB_features, DataFrame(results_XGB)], axis=1)\n",
    "def dataset_feature(input):\n",
    "    feature=1-DataFrame(input)\n",
    "    features=pd.concat([feature, DataFrame(input)], axis=1)\n",
    "    return features\n",
    "\n",
    "    \n",
    "XGB_features=dataset_feature(results_XGB)    \n",
    "#print(XGB_features)\n",
    "LL_features=dataset_feature(results_LL)\n",
    "\n",
    "MetaLearner_data=pd.concat([XGB_features, LL_features], axis=1)\n",
    "print(MetaLearner_data)"
   ]
  },
  {
   "cell_type": "code",
   "execution_count": null,
   "metadata": {},
   "outputs": [],
   "source": [
    "#load the data back onto S3 for training the Meta learner- we will use a KNN as our meta learner\n",
    "\n"
   ]
  },
  {
   "cell_type": "code",
   "execution_count": null,
   "metadata": {},
   "outputs": [],
   "source": [
    "pd.concat([Y_train, X_train], axis=1).to_csv('train.csv', index=False, header=False)\n",
    "pd.concat([Y_val, X_val], axis=1).to_csv('validation.csv', index=False, header=False)\n",
    "#pd.concat([Y_test, X_test], axis=1).to_csv('test.csv', index=False, header=False)\n",
    "\n",
    "boto3.Session().resource('s3').Bucket(bucket).Object(os.path.join('train/train.csv')).upload_file('train.csv')\n",
    "boto3.Session().resource('s3').Bucket(bucket).Object(os.path.join('validation/validation.csv')).upload_file('validation.csv')"
   ]
  },
  {
   "cell_type": "markdown",
   "metadata": {},
   "source": [
    "## Define the Meta learner and add it to the endpoint we'd had already"
   ]
  },
  {
   "cell_type": "code",
   "execution_count": null,
   "metadata": {},
   "outputs": [],
   "source": []
  }
 ],
 "metadata": {
  "celltoolbar": "Tags",
  "instance_type": "ml.t3.medium",
  "kernelspec": {
   "display_name": "Python 3 (Data Science)",
   "language": "python",
   "name": "python3__SAGEMAKER_INTERNAL__arn:aws:sagemaker:ap-southeast-2:452832661640:image/datascience-1.0"
  },
  "language_info": {
   "codemirror_mode": {
    "name": "ipython",
    "version": 3
   },
   "file_extension": ".py",
   "mimetype": "text/x-python",
   "name": "python",
   "nbconvert_exporter": "python",
   "pygments_lexer": "ipython3",
   "version": "3.7.10"
  },
  "notice": "Copyright 2017 Amazon.com, Inc. or its affiliates. All Rights Reserved.  Licensed under the Apache License, Version 2.0 (the \"License\"). You may not use this file except in compliance with the License. A copy of the License is located at http://aws.amazon.com/apache2.0/ or in the \"license\" file accompanying this file. This file is distributed on an \"AS IS\" BASIS, WITHOUT WARRANTIES OR CONDITIONS OF ANY KIND, either express or implied. See the License for the specific language governing permissions and limitations under the License."
 },
 "nbformat": 4,
 "nbformat_minor": 4
}
